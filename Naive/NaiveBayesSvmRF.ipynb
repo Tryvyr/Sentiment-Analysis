{
 "cells": [
  {
   "cell_type": "code",
   "execution_count": 1,
   "metadata": {},
   "outputs": [],
   "source": [
    "import pandas as pd\n",
    "# Load dataset\n",
    "\n",
    "data = pd.read_csv('../Dataset/data_clean.csv')\n",
    "data = data.dropna()\n",
    "\n",
    "import advertools as adv\n",
    "# stopwords\n",
    "\n",
    "my_stopwords = list(adv.stopwords['tagalog'])\n",
    "my_stopwords.extend(list(adv.stopwords['english']))\n",
    "my_stopwords.extend(['yung','lang','naman','po','seller','order','sana','ung','sya'])\n"
   ]
  },
  {
   "cell_type": "code",
   "execution_count": 2,
   "metadata": {},
   "outputs": [
    {
     "name": "stdout",
     "output_type": "stream",
     "text": [
      "Number of rows:  4085\n",
      "Number of columns:  2\n"
     ]
    }
   ],
   "source": [
    "print(\"Number of rows: \", data.shape[0])\n",
    "print(\"Number of columns: \", data.shape[1])"
   ]
  },
  {
   "cell_type": "code",
   "execution_count": 3,
   "metadata": {},
   "outputs": [
    {
     "name": "stdout",
     "output_type": "stream",
     "text": [
      "negative    2191\n",
      "positive    1894\n",
      "Name: sentiment, dtype: int64\n"
     ]
    }
   ],
   "source": [
    "\n",
    "# Count the number of positive and negative reviews\n",
    "sentiment_counts = data['sentiment'].value_counts()\n",
    "\n",
    "# Print the results\n",
    "print(sentiment_counts)"
   ]
  },
  {
   "attachments": {},
   "cell_type": "markdown",
   "metadata": {},
   "source": [
    "# 3 MACHINE LEARNING"
   ]
  },
  {
   "attachments": {},
   "cell_type": "markdown",
   "metadata": {},
   "source": [
    "SPLIT DATASET"
   ]
  },
  {
   "cell_type": "code",
   "execution_count": 4,
   "metadata": {},
   "outputs": [],
   "source": [
    "# Split the dataset into training and validation sets\n",
    "from sklearn.model_selection import train_test_split\n",
    "\n",
    "X_train, X_val, y_train, y_val = train_test_split(data['review'], data['sentiment'], test_size=0.3, random_state=42)"
   ]
  },
  {
   "cell_type": "code",
   "execution_count": 5,
   "metadata": {},
   "outputs": [],
   "source": [
    "from sklearn.feature_extraction.text import CountVectorizer, TfidfVectorizer\n",
    "# Create a CountVectorizer object to convert text to numerical features\n",
    "vectorizer = TfidfVectorizer(stop_words=my_stopwords)\n",
    "\n",
    "# Transform the text data into numerical features\n",
    "X_train = vectorizer.fit_transform(X_train)\n",
    "X_val = vectorizer.transform(X_val)\n"
   ]
  },
  {
   "attachments": {},
   "cell_type": "markdown",
   "metadata": {},
   "source": [
    "NAIVE BAYES"
   ]
  },
  {
   "cell_type": "code",
   "execution_count": 6,
   "metadata": {},
   "outputs": [
    {
     "name": "stdout",
     "output_type": "stream",
     "text": [
      "Naive Bayes Classification Report: \n",
      "              precision    recall  f1-score   support\n",
      "\n",
      "    negative       0.90      0.91      0.90       650\n",
      "    positive       0.89      0.89      0.89       576\n",
      "\n",
      "    accuracy                           0.90      1226\n",
      "   macro avg       0.90      0.90      0.90      1226\n",
      "weighted avg       0.90      0.90      0.90      1226\n",
      "\n",
      "Accuracy: 0.8972267536704731\n"
     ]
    }
   ],
   "source": [
    "from sklearn.metrics import accuracy_score\n",
    "from sklearn.metrics import classification_report\n",
    "from sklearn.naive_bayes import MultinomialNB\n",
    "\n",
    "\n",
    "# Create a MultinomialNB object\n",
    "nb = MultinomialNB(alpha=0.10)\n",
    "# Fit the MultinomialNB model on the training data\n",
    "nb.fit(X_train, y_train)\n",
    "# Make predictions on the validation data using the MultinomialNB model\n",
    "y_pred_nb = nb.predict(X_val)\n",
    "# Calculate the accuracy, precision, recall, and F1 score of the MultinomialNB model on the validation data\n",
    "report = classification_report(y_val, y_pred_nb)\n",
    "print(f'Naive Bayes Classification Report: \\n{report}')\n",
    "\n",
    "nb_accuracy = accuracy_score(y_val, y_pred_nb)\n",
    "print(f'Accuracy: {nb_accuracy}')"
   ]
  },
  {
   "attachments": {},
   "cell_type": "markdown",
   "metadata": {},
   "source": [
    "SVM"
   ]
  },
  {
   "cell_type": "code",
   "execution_count": 7,
   "metadata": {},
   "outputs": [
    {
     "name": "stdout",
     "output_type": "stream",
     "text": [
      "SVM Classification Report: \n",
      "              precision    recall  f1-score   support\n",
      "\n",
      "    negative       0.87      0.94      0.90       650\n",
      "    positive       0.93      0.84      0.88       576\n",
      "\n",
      "    accuracy                           0.89      1226\n",
      "   macro avg       0.90      0.89      0.89      1226\n",
      "weighted avg       0.90      0.89      0.89      1226\n",
      "\n",
      "Accuracy: 0.8947797716150081\n"
     ]
    }
   ],
   "source": [
    "from sklearn import svm\n",
    "\n",
    "# Create an SVM object and fit the model to the training data\n",
    "clf = svm.SVC()\n",
    "clf.fit(X_train, y_train)\n",
    "\n",
    "# Use the trained SVM model to make predictions on the validation data\n",
    "y_pred_svm = clf.predict(X_val)\n",
    "\n",
    "# Calculate the performance metrics for the SVM model\n",
    "report_svm = classification_report(y_val, y_pred_svm)\n",
    "print(f'SVM Classification Report: \\n{report_svm}')\n",
    "svm_accuracy = accuracy_score(y_val, y_pred_svm)\n",
    "print(f'Accuracy: {svm_accuracy}')"
   ]
  },
  {
   "attachments": {},
   "cell_type": "markdown",
   "metadata": {},
   "source": [
    "Random Forest"
   ]
  },
  {
   "cell_type": "code",
   "execution_count": 8,
   "metadata": {},
   "outputs": [
    {
     "name": "stdout",
     "output_type": "stream",
     "text": [
      "Random Forest Classification Report: \n",
      "              precision    recall  f1-score   support\n",
      "\n",
      "    negative       0.87      0.90      0.89       650\n",
      "    positive       0.89      0.85      0.87       576\n",
      "\n",
      "    accuracy                           0.88      1226\n",
      "   macro avg       0.88      0.88      0.88      1226\n",
      "weighted avg       0.88      0.88      0.88      1226\n",
      "\n",
      "Accuracy: 0.8776508972267537\n"
     ]
    }
   ],
   "source": [
    "from sklearn.ensemble import RandomForestClassifier\n",
    "\n",
    "# Create a Random Forest object and fit the model to the training data\n",
    "rfc = RandomForestClassifier()\n",
    "rfc.fit(X_train, y_train)\n",
    "\n",
    "# Use the trained Random Forest model to make predictions on the validation data\n",
    "y_pred_rf = rfc.predict(X_val)\n",
    "\n",
    "# Calculate the performance metrics for the Random Forest model\n",
    "report_rf = classification_report(y_val, y_pred_rf)\n",
    "print(f'Random Forest Classification Report: \\n{report_rf}')\n",
    "rfc_accuracy = accuracy_score(y_val, y_pred_rf)\n",
    "print(f'Accuracy: {rfc_accuracy}')"
   ]
  },
  {
   "attachments": {},
   "cell_type": "markdown",
   "metadata": {},
   "source": [
    "# FINE TUNING"
   ]
  },
  {
   "cell_type": "code",
   "execution_count": 9,
   "metadata": {},
   "outputs": [
    {
     "name": "stdout",
     "output_type": "stream",
     "text": [
      "Best parameters: {'alpha': 1.0}\n",
      "Best scores: 0.8852816185565746\n",
      "Naive Bayes Classification Report: \n",
      "              precision    recall  f1-score   support\n",
      "\n",
      "    negative       0.90      0.93      0.91       650\n",
      "    positive       0.92      0.88      0.90       576\n",
      "\n",
      "    accuracy                           0.91      1226\n",
      "   macro avg       0.91      0.90      0.90      1226\n",
      "weighted avg       0.91      0.91      0.91      1226\n",
      "\n",
      "Accuracy: 0.9053833605220228\n"
     ]
    }
   ],
   "source": [
    "from sklearn.metrics import make_scorer, precision_score, recall_score, f1_score\n",
    "from sklearn.model_selection import GridSearchCV\n",
    "\n",
    "# Define the hyperparameters to be tuned\n",
    "param_grid = {'alpha': [0.1, 0.5, 1.0, 1.5, 2.0]}\n",
    "\n",
    "# Choose an appropriate performance metric\n",
    "scoring = {'accuracy': make_scorer(accuracy_score), 'precision': make_scorer(precision_score, average='weighted'), 'recall': make_scorer(recall_score, average='weighted'), 'f1': make_scorer(f1_score, average='weighted')}\n",
    "\n",
    "\n",
    "# Create a GridSearchCV object to search over the hyperparameters\n",
    "grid_search = GridSearchCV(nb, param_grid=param_grid, scoring=scoring, refit='accuracy', cv=5)\n",
    "\n",
    "# Fit the GridSearchCV object to the training set\n",
    "grid_search.fit(X_train, y_train)\n",
    "\n",
    "# Print the best hyperparameters and their corresponding scores\n",
    "print('Best parameters:', grid_search.best_params_)\n",
    "print('Best scores:', grid_search.best_score_)\n",
    "\n",
    "# Train the model on the entire training set using the best hyperparameters\n",
    "nbHyperTuning = MultinomialNB(alpha=1)\n",
    "nbHyperTuning.fit(X_train, y_train)\n",
    "\n",
    "y_pred = nbHyperTuning.predict(X_val)\n",
    "\n",
    "reportHyperTuning = classification_report(y_val, y_pred)\n",
    "print(f'Naive Bayes Classification Report: \\n{reportHyperTuning}')\n",
    "\n",
    "nbHT_accuracy = accuracy_score(y_val, y_pred)\n",
    "print(f'Accuracy: {nbHT_accuracy}')\n",
    "\n"
   ]
  },
  {
   "attachments": {},
   "cell_type": "markdown",
   "metadata": {},
   "source": [
    "Sample Sentence"
   ]
  },
  {
   "cell_type": "code",
   "execution_count": 10,
   "metadata": {},
   "outputs": [
    {
     "name": "stdout",
     "output_type": "stream",
     "text": [
      "Sentence: hindi bibili\n",
      "Predicted sentiment: negative\n"
     ]
    }
   ],
   "source": [
    "\n",
    "# Define a sample sentence\n",
    "sentence = \"hindi bibili\"\n",
    "\n",
    "# Transform the sentence into numerical features using the same vectorizer object\n",
    "X_sentence = vectorizer.transform([sentence])\n",
    "\n",
    "# Use the trained MultinomialNB model to predict the sentiment of the sentence\n",
    "sentiment = nbHyperTuning.predict(X_sentence)\n",
    "\n",
    "print(f\"Sentence: {sentence}\")\n",
    "print(f\"Predicted sentiment: {sentiment[0]}\")"
   ]
  },
  {
   "attachments": {},
   "cell_type": "markdown",
   "metadata": {},
   "source": [
    "# DATAFRAME"
   ]
  },
  {
   "cell_type": "code",
   "execution_count": 11,
   "metadata": {},
   "outputs": [],
   "source": [
    "df = pd.DataFrame({\n",
    "    'Model': ['Naive Bayes HT', 'Naive Bayes', 'SVM', 'Random Forest'],\n",
    "    'Accuracy': [nbHT_accuracy, nb_accuracy, svm_accuracy, rfc_accuracy]\n",
    "})"
   ]
  },
  {
   "cell_type": "code",
   "execution_count": 12,
   "metadata": {},
   "outputs": [
    {
     "data": {
      "image/png": "[encoded data removed]",
      "text/plain": [
       "<Figure size 640x480 with 1 Axes>"
      ]
     },
     "metadata": {},
     "output_type": "display_data"
    }
   ],
   "source": [
    "import matplotlib.pyplot as plt\n",
    "\n",
    "plt.plot(df['Model'], df['Accuracy'], marker='o')\n",
    "plt.ylim([0.80,1])\n",
    "plt.ylabel('Accuracy')\n",
    "plt.xlabel('Model')\n",
    "plt.title('Accuracy Comparison')\n",
    "plt.grid(True)\n",
    "plt.show()"
   ]
  },
  {
   "cell_type": "code",
   "execution_count": 13,
   "metadata": {},
   "outputs": [
    {
     "data": {
      "image/png": "[encoded data removed]",
      "text/plain": [
       "<Figure size 640x480 with 2 Axes>"
      ]
     },
     "metadata": {},
     "output_type": "display_data"
    }
   ],
   "source": [
    "from sklearn.metrics import confusion_matrix\n",
    "import sklearn.metrics as metrics\n",
    "import matplotlib.pyplot as plt\n",
    "\n",
    "confusion_matrix = metrics.confusion_matrix(y_val, y_pred)\n",
    "cm_display = metrics.ConfusionMatrixDisplay(confusion_matrix = confusion_matrix, display_labels = [False, True])\n",
    "cm_display.plot()\n",
    "\n",
    "\n",
    "plt.xlabel('Predicted')\n",
    "plt.ylabel('Actual')\n",
    "plt.title('Confusion Matrix')\n",
    "plt.show()"
   ]
  },
  {
   "cell_type": "code",
   "execution_count": 14,
   "metadata": {},
   "outputs": [
    {
     "data": {
      "image/png": "[encoded data removed]",
      "text/plain": [
       "<Figure size 800x600 with 1 Axes>"
      ]
     },
     "metadata": {},
     "output_type": "display_data"
    }
   ],
   "source": [
    "import matplotlib.pyplot as plt\n",
    "import numpy as np\n",
    "\n",
    "# create a numpy array of the precision, recall, and f1-score values for negative and positive classes\n",
    "metrics = np.array([[0.90, 0.93, 0.91], [0.92, 0.88, 0.90]])\n",
    "\n",
    "# create a bar plot for the metrics\n",
    "fig, ax = plt.subplots(figsize=(8, 6))\n",
    "x_labels = ['precision', 'recall', 'f1-score']\n",
    "x_ticks = np.arange(len(x_labels))\n",
    "bar_width = 0.35\n",
    "opacity = 0.8\n",
    "\n",
    "rects1 = ax.bar(x_ticks - bar_width/2, metrics[0], bar_width, alpha=opacity, color='b', label='negative')\n",
    "rects2 = ax.bar(x_ticks + bar_width/2, metrics[1], bar_width, alpha=opacity, color='g', label='positive')\n",
    "\n",
    "ax.set_xlabel('Metrics')\n",
    "ax.set_ylabel('Score')\n",
    "ax.set_title('Naive Bayes Classification Report')\n",
    "ax.set_xticks(x_ticks)\n",
    "ax.set_xticklabels(x_labels)\n",
    "ax.legend()\n",
    "\n",
    "# display the plot\n",
    "plt.show()"
   ]
  },
  {
   "cell_type": "code",
   "execution_count": 15,
   "metadata": {},
   "outputs": [
    {
     "name": "stdout",
     "output_type": "stream",
     "text": [
      "Prior probability of positive sentiment: 0.46364749082007345\n",
      "Prior probability of negative sentiment: 0.5363525091799266\n"
     ]
    }
   ],
   "source": [
    "# Count the number of occurrences of each class in the training data\n",
    "class_counts = data[\"sentiment\"].value_counts()\n",
    "\n",
    "# Compute the total number of training instances\n",
    "total_count = class_counts.sum()\n",
    "\n",
    "# Compute the prior probability of each class\n",
    "prior_probs = class_counts / total_count\n",
    "\n",
    "print(\"Prior probability of positive sentiment:\", prior_probs[\"positive\"])\n",
    "print(\"Prior probability of negative sentiment:\", prior_probs[\"negative\"])"
   ]
  },
  {
   "cell_type": "code",
   "execution_count": 16,
   "metadata": {},
   "outputs": [
    {
     "name": "stdout",
     "output_type": "stream",
     "text": [
      "TF-IDF scores for \"maganda fast delivery \" in the positive class:\n",
      "{'maganda': 3.238706420115322, 'fast': 4.2429090243123575, 'delivery': 3.8835350234044594}\n",
      "TF-IDF scores for \"maganda fast delivery \" in the negative class:\n",
      "{'maganda': 4.203933278335766, 'fast': 5.7481306689014655, 'delivery': 4.703585601503631}\n"
     ]
    }
   ],
   "source": [
    "from sklearn.feature_extraction.text import TfidfVectorizer\n",
    "import pandas as pd\n",
    "\n",
    "data = pd.read_csv('../Dataset/data_clean.csv')\n",
    "data = data.dropna()\n",
    "\n",
    "# Split dataset into positive and negative classes\n",
    "positive_data = data[data['sentiment'] == 'positive']\n",
    "negative_data = data[data['sentiment'] == 'negative']\n",
    "\n",
    "\n",
    "# Create tf-idf vectorizer for positive class\n",
    "tfidf_pos = TfidfVectorizer()\n",
    "tfidf_pos.fit(positive_data['review'])\n",
    "\n",
    "# Create tf-idf vectorizer for negative class\n",
    "tfidf_neg = TfidfVectorizer()\n",
    "tfidf_neg.fit(negative_data['review'])\n",
    "\n",
    "phrase = \"maganda fast delivery \"\n",
    "pos_tfidf_scores = {}\n",
    "for word in phrase.split():\n",
    "    if word in tfidf_pos.vocabulary_:\n",
    "        pos_tfidf_scores[word] = tfidf_pos.idf_[tfidf_pos.vocabulary_[word]]\n",
    "\n",
    "neg_tfidf_scores = {}\n",
    "for word in phrase.split():\n",
    "    if word in tfidf_neg.vocabulary_:\n",
    "        neg_tfidf_scores[word] = tfidf_neg.idf_[tfidf_neg.vocabulary_[word]]\n",
    "\n",
    "# Print tf-idf scores\n",
    "print(\"TF-IDF scores for \\\"{}\\\" in the positive class:\".format(phrase))\n",
    "print(pos_tfidf_scores)\n",
    "\n",
    "print(\"TF-IDF scores for \\\"{}\\\" in the negative class:\".format(phrase))\n",
    "print(neg_tfidf_scores)\n",
    "\n",
    "\n"
   ]
  },
  {
   "attachments": {},
   "cell_type": "markdown",
   "metadata": {},
   "source": [
    "FREQUENCY OF WORD IN EACH CLASS"
   ]
  },
  {
   "cell_type": "code",
   "execution_count": 17,
   "metadata": {},
   "outputs": [
    {
     "name": "stdout",
     "output_type": "stream",
     "text": [
      "Negative Class\n",
      "maganda: 12.300596621306342\n",
      "fast: 1.799606049166989\n",
      "delivery: 8.347593781325394\n",
      "Positive Class\n",
      "maganda: 36.710919547191416\n",
      "fast: 14.037224084869365\n",
      "delivery: 18.221932072209682\n"
     ]
    }
   ],
   "source": [
    "\n",
    "word1 = vectorizer.vocabulary_['maganda']\n",
    "word2 = vectorizer.vocabulary_['fast']\n",
    "word3 = vectorizer.vocabulary_['delivery']\n",
    "\n",
    "word_count = nbHyperTuning.feature_count_[0][word1]\n",
    "word_count1 = nbHyperTuning.feature_count_[0][word2]\n",
    "word_count2 = nbHyperTuning.feature_count_[0][word3]\n",
    "\n",
    "print(\"Negative Class\")\n",
    "print(\"maganda: \" + str(word_count))\n",
    "print(\"fast: \" + str(word_count1))\n",
    "print(\"delivery: \" + str(word_count2))\n",
    "\n",
    "word1 = vectorizer.vocabulary_['maganda']\n",
    "word2 = vectorizer.vocabulary_['fast']\n",
    "word3 = vectorizer.vocabulary_['delivery']\n",
    "\n",
    "word_count = nbHyperTuning.feature_count_[1][word1]\n",
    "word_count1 = nbHyperTuning.feature_count_[1][word2]\n",
    "word_count2 = nbHyperTuning.feature_count_[1][word3]\n",
    "\n",
    "print(\"Positive Class\")\n",
    "print(\"maganda: \" + str(word_count))\n",
    "print(\"fast: \" + str(word_count1))\n",
    "print(\"delivery: \" + str(word_count2))"
   ]
  },
  {
   "cell_type": "code",
   "execution_count": 18,
   "metadata": {},
   "outputs": [],
   "source": [
    "import pickle\n",
    "\n",
    "# Save the model\n",
    "with open('../modelsv1/mnb_model.pkl', 'wb') as file:\n",
    "    pickle.dump(nbHyperTuning, file)\n",
    "\n",
    "with open('../modelsv1/vectorizer.pkl', 'wb') as file:\n",
    "    pickle.dump(vectorizer, file)\n"
   ]
  }
 ],
 "metadata": {
  "kernelspec": {
   "display_name": "Python 3",
   "language": "python",
   "name": "python3"
  },
  "language_info": {
   "codemirror_mode": {
    "name": "ipython",
    "version": 3
   },
   "file_extension": ".py",
   "mimetype": "text/x-python",
   "name": "python",
   "nbconvert_exporter": "python",
   "pygments_lexer": "ipython3",
   "version": "3.10.5"
  },
  "orig_nbformat": 4,
  "vscode": {
   "interpreter": {
    "hash": "e01773854da9e445ccbe14a287baf3d6e372fb1ae9c4bc3d43d910846b84ee8e"
   }
  }
 },
 "nbformat": 4,
 "nbformat_minor": 2
}
