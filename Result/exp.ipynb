{
 "cells": [
  {
   "cell_type": "code",
   "execution_count": 19,
   "metadata": {},
   "outputs": [
    {
     "name": "stdout",
     "output_type": "stream",
     "text": [
      " ko na dito sa \n"
     ]
    }
   ],
   "source": [
    "import csv\n",
    "\n",
    "# Load the Tagalog dictionary from a CSV file\n",
    "tagalog_dict = {}\n",
    "with open('tagalog_dict.csv', 'r', encoding='utf-8') as f:\n",
    "    reader = csv.reader(f)\n",
    "    for row in reader:\n",
    "        word = row[0]\n",
    "        correct_spellings = row[1:]\n",
    "        tagalog_dict[word] = correct_spellings\n",
    "\n",
    "# Define a function to perform auto-correction on a given text string\n",
    "def autocorrect_text(text):\n",
    "    # Split the text into words\n",
    "    words = text.split()\n",
    "    # Iterate through each word and check if it is misspelled\n",
    "    corrected_words = []\n",
    "    for word in words:\n",
    "        if word in tagalog_dict:\n",
    "            corrected_words.append(word)\n",
    "        else:\n",
    "            # Check if there are any possible corrections for the misspelled word\n",
    "            possible_corrections = []\n",
    "            for dict_word in tagalog_dict:\n",
    "                if word.startswith(dict_word):\n",
    "                    possible_corrections.extend(tagalog_dict[dict_word])\n",
    "            # If there are possible corrections, choose the one with the highest frequency\n",
    "            if possible_corrections:\n",
    "                most_frequent_correction = max(possible_corrections, key=possible_corrections.count)\n",
    "                corrected_words.append(most_frequent_correction)\n",
    "            else:\n",
    "                corrected_words.append(word)\n",
    "    # Join the corrected words back into a string\n",
    "    corrected_text = ' '.join(corrected_words)\n",
    "    return corrected_text\n",
    "\n",
    "# Test the auto-correction function with some sample text\n",
    "sample_text = 'ayaw ko na dito sa lipad.'\n",
    "corrected_text = autocorrect_text(sample_text)\n",
    "print(corrected_text)  # Output: \"Ang maganda bata ay lumilipad papuntang masaya.\""
   ]
  }
 ],
 "metadata": {
  "kernelspec": {
   "display_name": "Python 3",
   "language": "python",
   "name": "python3"
  },
  "language_info": {
   "codemirror_mode": {
    "name": "ipython",
    "version": 3
   },
   "file_extension": ".py",
   "mimetype": "text/x-python",
   "name": "python",
   "nbconvert_exporter": "python",
   "pygments_lexer": "ipython3",
   "version": "3.10.5"
  },
  "orig_nbformat": 4
 },
 "nbformat": 4,
 "nbformat_minor": 2
}
