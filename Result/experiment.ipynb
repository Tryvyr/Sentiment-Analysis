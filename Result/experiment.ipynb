{
 "cells": [
  {
   "cell_type": "code",
   "execution_count": 22,
   "metadata": {},
   "outputs": [],
   "source": [
    "import pandas as pd\n",
    "# Load dataset\n",
    "\n",
    "data = pd.read_csv('data_cleanFil1.csv')\n",
    "data = data.dropna()\n",
    "\n",
    "import advertools as adv\n",
    "# stopwords\n",
    "\n",
    "my_stopwords = list(adv.stopwords['tagalog'])\n",
    "my_stopwords.extend(list(adv.stopwords['english']))\n",
    "my_stopwords.extend(['yung','lang','naman','po','seller','order','sana','ung','sya'])\n"
   ]
  },
  {
   "cell_type": "code",
   "execution_count": 23,
   "metadata": {},
   "outputs": [
    {
     "name": "stdout",
     "output_type": "stream",
     "text": [
      "Number of rows:  4085\n",
      "Number of columns:  2\n"
     ]
    }
   ],
   "source": [
    "print(\"Number of rows: \", data.shape[0])\n",
    "print(\"Number of columns: \", data.shape[1])"
   ]
  },
  {
   "cell_type": "code",
   "execution_count": 24,
   "metadata": {},
   "outputs": [
    {
     "name": "stdout",
     "output_type": "stream",
     "text": [
      "negative    2191\n",
      "positive    1894\n",
      "Name: sentiment, dtype: int64\n"
     ]
    }
   ],
   "source": [
    "\n",
    "# Count the number of positive and negative reviews\n",
    "sentiment_counts = data['sentiment'].value_counts()\n",
    "\n",
    "# Print the results\n",
    "print(sentiment_counts)"
   ]
  },
  {
   "attachments": {},
   "cell_type": "markdown",
   "metadata": {},
   "source": [
    "# 3 MACHINE LEARNING"
   ]
  },
  {
   "attachments": {},
   "cell_type": "markdown",
   "metadata": {},
   "source": [
    "SPLIT DATASET"
   ]
  },
  {
   "cell_type": "code",
   "execution_count": 25,
   "metadata": {},
   "outputs": [],
   "source": [
    "# Split the dataset into training and validation sets\n",
    "from sklearn.model_selection import train_test_split\n",
    "\n",
    "X_train, X_val, y_train, y_val = train_test_split(data['review'], data['sentiment'], test_size=0.3, random_state=42)"
   ]
  },
  {
   "cell_type": "code",
   "execution_count": 26,
   "metadata": {},
   "outputs": [],
   "source": [
    "from sklearn.feature_extraction.text import CountVectorizer, TfidfVectorizer\n",
    "# Create a CountVectorizer object to convert text to numerical features\n",
    "vectorizer = TfidfVectorizer(stop_words=my_stopwords)\n",
    "\n",
    "# Transform the text data into numerical features\n",
    "X_train = vectorizer.fit_transform(X_train)\n",
    "X_val = vectorizer.transform(X_val)"
   ]
  },
  {
   "attachments": {},
   "cell_type": "markdown",
   "metadata": {},
   "source": [
    "NAIVE BAYES"
   ]
  },
  {
   "cell_type": "code",
   "execution_count": 27,
   "metadata": {},
   "outputs": [
    {
     "name": "stdout",
     "output_type": "stream",
     "text": [
      "Naive Bayes Classification Report: \n",
      "              precision    recall  f1-score   support\n",
      "\n",
      "    negative       0.90      0.93      0.91       650\n",
      "    positive       0.92      0.88      0.90       576\n",
      "\n",
      "    accuracy                           0.91      1226\n",
      "   macro avg       0.91      0.90      0.90      1226\n",
      "weighted avg       0.91      0.91      0.91      1226\n",
      "\n",
      "Accuracy: 0.9053833605220228\n"
     ]
    }
   ],
   "source": [
    "from sklearn.metrics import accuracy_score\n",
    "from sklearn.metrics import classification_report\n",
    "from sklearn.naive_bayes import MultinomialNB\n",
    "\n",
    "\n",
    "# Create a MultinomialNB object\n",
    "nb = MultinomialNB()\n",
    "# Fit the MultinomialNB model on the training data\n",
    "nb.fit(X_train, y_train)\n",
    "# Make predictions on the validation data using the MultinomialNB model\n",
    "y_pred = nb.predict(X_val)\n",
    "# Calculate the accuracy, precision, recall, and F1 score of the MultinomialNB model on the validation data\n",
    "report = classification_report(y_val, y_pred)\n",
    "print(f'Naive Bayes Classification Report: \\n{report}')\n",
    "\n",
    "nb_accuracy = accuracy_score(y_val, y_pred)\n",
    "print(f'Accuracy: {nb_accuracy}')"
   ]
  },
  {
   "attachments": {},
   "cell_type": "markdown",
   "metadata": {},
   "source": [
    "SVM"
   ]
  },
  {
   "cell_type": "code",
   "execution_count": 28,
   "metadata": {},
   "outputs": [
    {
     "name": "stdout",
     "output_type": "stream",
     "text": [
      "SVM Classification Report: \n",
      "              precision    recall  f1-score   support\n",
      "\n",
      "    negative       0.87      0.94      0.90       650\n",
      "    positive       0.93      0.84      0.88       576\n",
      "\n",
      "    accuracy                           0.89      1226\n",
      "   macro avg       0.90      0.89      0.89      1226\n",
      "weighted avg       0.90      0.89      0.89      1226\n",
      "\n",
      "Accuracy: 0.8947797716150081\n"
     ]
    }
   ],
   "source": [
    "from sklearn import svm\n",
    "\n",
    "# Create an SVM object and fit the model to the training data\n",
    "clf = svm.SVC()\n",
    "clf.fit(X_train, y_train)\n",
    "\n",
    "# Use the trained SVM model to make predictions on the validation data\n",
    "y_pred_svm = clf.predict(X_val)\n",
    "\n",
    "# Calculate the performance metrics for the SVM model\n",
    "report_svm = classification_report(y_val, y_pred_svm)\n",
    "print(f'SVM Classification Report: \\n{report_svm}')\n",
    "svm_accuracy = accuracy_score(y_val, y_pred_svm)\n",
    "print(f'Accuracy: {svm_accuracy}')"
   ]
  },
  {
   "attachments": {},
   "cell_type": "markdown",
   "metadata": {},
   "source": [
    "Random Forest"
   ]
  },
  {
   "cell_type": "code",
   "execution_count": 29,
   "metadata": {},
   "outputs": [
    {
     "name": "stdout",
     "output_type": "stream",
     "text": [
      "Random Forest Classification Report: \n",
      "              precision    recall  f1-score   support\n",
      "\n",
      "    negative       0.87      0.91      0.89       650\n",
      "    positive       0.89      0.84      0.87       576\n",
      "\n",
      "    accuracy                           0.88      1226\n",
      "   macro avg       0.88      0.88      0.88      1226\n",
      "weighted avg       0.88      0.88      0.88      1226\n",
      "\n",
      "Accuracy: 0.8784665579119086\n"
     ]
    }
   ],
   "source": [
    "from sklearn.ensemble import RandomForestClassifier\n",
    "\n",
    "# Create a Random Forest object and fit the model to the training data\n",
    "rfc = RandomForestClassifier()\n",
    "rfc.fit(X_train, y_train)\n",
    "\n",
    "# Use the trained Random Forest model to make predictions on the validation data\n",
    "y_pred_rf = rfc.predict(X_val)\n",
    "\n",
    "# Calculate the performance metrics for the Random Forest model\n",
    "report_rf = classification_report(y_val, y_pred_rf)\n",
    "print(f'Random Forest Classification Report: \\n{report_rf}')\n",
    "rfc_accuracy = accuracy_score(y_val, y_pred_rf)\n",
    "print(f'Accuracy: {rfc_accuracy}')"
   ]
  },
  {
   "attachments": {},
   "cell_type": "markdown",
   "metadata": {},
   "source": [
    "FINE TUNING"
   ]
  },
  {
   "cell_type": "code",
   "execution_count": 30,
   "metadata": {},
   "outputs": [
    {
     "name": "stdout",
     "output_type": "stream",
     "text": [
      "Best parameters: {'alpha': 1.0}\n",
      "Best scores: 0.8852816185565746\n",
      "Naive Bayes Classification Report: \n",
      "              precision    recall  f1-score   support\n",
      "\n",
      "    negative       0.90      0.93      0.91       650\n",
      "    positive       0.92      0.88      0.90       576\n",
      "\n",
      "    accuracy                           0.91      1226\n",
      "   macro avg       0.91      0.90      0.90      1226\n",
      "weighted avg       0.91      0.91      0.91      1226\n",
      "\n",
      "Accuracy: 0.9053833605220228\n"
     ]
    }
   ],
   "source": [
    "from sklearn.metrics import make_scorer, precision_score, recall_score, f1_score\n",
    "from sklearn.model_selection import GridSearchCV\n",
    "\n",
    "# Define the hyperparameters to be tuned\n",
    "param_grid = {'alpha': [0.1, 0.5, 1.0, 1.5, 2.0]}\n",
    "\n",
    "# Choose an appropriate performance metric\n",
    "scoring = {'accuracy': make_scorer(accuracy_score), 'precision': make_scorer(precision_score, average='weighted'), 'recall': make_scorer(recall_score, average='weighted'), 'f1': make_scorer(f1_score, average='weighted')}\n",
    "\n",
    "\n",
    "# Create a GridSearchCV object to search over the hyperparameters\n",
    "grid_search = GridSearchCV(nb, param_grid=param_grid, scoring=scoring, refit='accuracy', cv=5)\n",
    "\n",
    "# Fit the GridSearchCV object to the training set\n",
    "grid_search.fit(X_train, y_train)\n",
    "\n",
    "# Print the best hyperparameters and their corresponding scores\n",
    "print('Best parameters:', grid_search.best_params_)\n",
    "print('Best scores:', grid_search.best_score_)\n",
    "\n",
    "# Train the model on the entire training set using the best hyperparameters\n",
    "nbHyperTuning = MultinomialNB(alpha=1.0)\n",
    "nbHyperTuning.fit(X_train, y_train)\n",
    "\n",
    "y_pred = nbHyperTuning.predict(X_val)\n",
    "\n",
    "reportHyperTuning = classification_report(y_val, y_pred)\n",
    "print(f'Naive Bayes Classification Report: \\n{reportHyperTuning}')\n",
    "\n",
    "nbHT_accuracy = accuracy_score(y_val, y_pred)\n",
    "print(f'Accuracy: {nbHT_accuracy}')\n",
    "\n"
   ]
  },
  {
   "cell_type": "markdown",
   "metadata": {},
   "source": [
    "Sample Sentence"
   ]
  },
  {
   "cell_type": "code",
   "execution_count": 31,
   "metadata": {},
   "outputs": [
    {
     "name": "stdout",
     "output_type": "stream",
     "text": [
      "Sentence: manipis\n",
      "Predicted sentiment: negative\n"
     ]
    }
   ],
   "source": [
    "\n",
    "# Define a sample sentence\n",
    "sentence = \"manipis\"\n",
    "\n",
    "# Transform the sentence into numerical features using the same vectorizer object\n",
    "X_sentence = vectorizer.transform([sentence])\n",
    "\n",
    "# Use the trained MultinomialNB model to predict the sentiment of the sentence\n",
    "sentiment = nbHyperTuning.predict(X_sentence)\n",
    "\n",
    "print(f\"Sentence: {sentence}\")\n",
    "print(f\"Predicted sentiment: {sentiment[0]}\")"
   ]
  },
  {
   "attachments": {},
   "cell_type": "markdown",
   "metadata": {},
   "source": [
    "# DATAFRAME"
   ]
  },
  {
   "cell_type": "code",
   "execution_count": 32,
   "metadata": {},
   "outputs": [],
   "source": [
    "df = pd.DataFrame({\n",
    "    'Model': ['Naive Bayes HT', 'Naive Bayes', 'SVM', 'Random Forest'],\n",
    "    'Accuracy': [nbHT_accuracy, nb_accuracy, svm_accuracy, rfc_accuracy]\n",
    "})"
   ]
  },
  {
   "cell_type": "code",
   "execution_count": 33,
   "metadata": {},
   "outputs": [
    {
     "data": {
      "image/png": "[encoded data removed]",
      "text/plain": [
       "<Figure size 432x288 with 1 Axes>"
      ]
     },
     "metadata": {
      "needs_background": "light"
     },
     "output_type": "display_data"
    }
   ],
   "source": [
    "import matplotlib.pyplot as plt\n",
    "\n",
    "plt.plot(df['Model'], df['Accuracy'], marker='o')\n",
    "plt.ylim([0.7,1])\n",
    "plt.ylabel('Accuracy')\n",
    "plt.xlabel('Model')\n",
    "plt.title('Accuracy Comparison')\n",
    "plt.grid(True)\n",
    "plt.show()"
   ]
  },
  {
   "cell_type": "code",
   "execution_count": 34,
   "metadata": {},
   "outputs": [
    {
     "data": {
      "image/png": "[encoded data removed]",
      "text/plain": [
       "<Figure size 432x288 with 2 Axes>"
      ]
     },
     "metadata": {
      "needs_background": "light"
     },
     "output_type": "display_data"
    }
   ],
   "source": [
    "from sklearn.metrics import confusion_matrix\n",
    "import sklearn.metrics as metrics\n",
    "import matplotlib.pyplot as plt\n",
    "\n",
    "confusion_matrix = metrics.confusion_matrix(y_val, y_pred)\n",
    "cm_display = metrics.ConfusionMatrixDisplay(confusion_matrix = confusion_matrix, display_labels = [False, True])\n",
    "cm_display.plot()\n",
    "\n",
    "\n",
    "plt.xlabel('Predicted')\n",
    "plt.ylabel('Actual')\n",
    "plt.title('Confusion Matrix')\n",
    "plt.show()"
   ]
  },
  {
   "cell_type": "code",
   "execution_count": 35,
   "metadata": {},
   "outputs": [
    {
     "name": "stdout",
     "output_type": "stream",
     "text": [
      "    feature        tf       idf    tf-idf\n",
      "0   maganda  0.494713  3.645441  1.803446\n",
      "1      fast  0.650517  4.793533  3.118276\n",
      "2  delivery  0.576270  4.246418  2.447082\n"
     ]
    },
    {
     "name": "stderr",
     "output_type": "stream",
     "text": [
      "c:\\Users\\Maike\\AppData\\Local\\Programs\\Python\\Python310\\lib\\site-packages\\sklearn\\utils\\deprecation.py:87: FutureWarning: Function get_feature_names is deprecated; get_feature_names is deprecated in 1.0 and will be removed in 1.2. Please use get_feature_names_out instead.\n",
      "  warnings.warn(msg, category=FutureWarning)\n"
     ]
    }
   ],
   "source": [
    "# Define the sentence to test\n",
    "sentence = \"maganda fast delivery\"\n",
    "\n",
    "# Fit the vectorizer on your dataset\n",
    "vectorizer.fit(data['review'])\n",
    "\n",
    "# Transform the sentence into a tf-idf vector\n",
    "sentence_vector = vectorizer.transform([sentence])\n",
    "\n",
    "# Get the vocabulary of the vectorizer\n",
    "vocab = vectorizer.get_feature_names()\n",
    "\n",
    "# Create a dictionary to store the tf, idf, and tf-idf values for each feature in the sentence\n",
    "values = {'feature': [], 'tf': [], 'idf': [], 'tf-idf': []}\n",
    "\n",
    "# Loop through each feature in the sentence and get its tf, idf, and tf-idf values\n",
    "for feature in sentence.split():\n",
    "    # Get the index of the feature in the vocabulary\n",
    "    index = vocab.index(feature)\n",
    "    # Get the tf value of the feature in the sentence vector\n",
    "    tf = sentence_vector[0, index]\n",
    "    # Get the idf value of the feature from the idf array\n",
    "    idf = vectorizer.idf_[index]\n",
    "    # Calculate the tf-idf value of the feature\n",
    "    tf_idf = tf * idf\n",
    "    # Add the values to the dictionary\n",
    "    values['feature'].append(feature)\n",
    "    values['tf'].append(tf)\n",
    "    values['idf'].append(idf)\n",
    "    values['tf-idf'].append(tf_idf)\n",
    "\n",
    "# Convert the dictionary to a pandas DataFrame and print it\n",
    "import pandas as pd\n",
    "df = pd.DataFrame(values)\n",
    "print(df)\n"
   ]
  },
  {
   "cell_type": "code",
   "execution_count": 36,
   "metadata": {},
   "outputs": [
    {
     "data": {
      "image/png": "[encoded data removed]",
      "text/plain": [
       "<Figure size 576x432 with 1 Axes>"
      ]
     },
     "metadata": {
      "needs_background": "light"
     },
     "output_type": "display_data"
    }
   ],
   "source": [
    "import matplotlib.pyplot as plt\n",
    "import numpy as np\n",
    "\n",
    "# create a numpy array of the precision, recall, and f1-score values for negative and positive classes\n",
    "metrics = np.array([[0.84, 0.76, 0.80], [0.84, 0.89, 0.86]])\n",
    "\n",
    "# create a bar plot for the metrics\n",
    "fig, ax = plt.subplots(figsize=(8, 6))\n",
    "x_labels = ['precision', 'recall', 'f1-score']\n",
    "x_ticks = np.arange(len(x_labels))\n",
    "bar_width = 0.35\n",
    "opacity = 0.8\n",
    "\n",
    "rects1 = ax.bar(x_ticks - bar_width/2, metrics[0], bar_width, alpha=opacity, color='b', label='negative')\n",
    "rects2 = ax.bar(x_ticks + bar_width/2, metrics[1], bar_width, alpha=opacity, color='g', label='positive')\n",
    "\n",
    "ax.set_xlabel('Metrics')\n",
    "ax.set_ylabel('Score')\n",
    "ax.set_title('Naive Bayes Classification Report')\n",
    "ax.set_xticks(x_ticks)\n",
    "ax.set_xticklabels(x_labels)\n",
    "ax.legend()\n",
    "\n",
    "# display the plot\n",
    "plt.show()"
   ]
  },
  {
   "cell_type": "code",
   "execution_count": 37,
   "metadata": {},
   "outputs": [
    {
     "name": "stdout",
     "output_type": "stream",
     "text": [
      "Prior probability of positive sentiment: 0.46364749082007345\n",
      "Prior probability of negative sentiment: 0.5363525091799266\n"
     ]
    }
   ],
   "source": [
    "# Count the number of occurrences of each class in the training data\n",
    "class_counts = data[\"sentiment\"].value_counts()\n",
    "\n",
    "# Compute the total number of training instances\n",
    "total_count = class_counts.sum()\n",
    "\n",
    "# Compute the prior probability of each class\n",
    "prior_probs = class_counts / total_count\n",
    "\n",
    "print(\"Prior probability of positive sentiment:\", prior_probs[\"positive\"])\n",
    "print(\"Prior probability of negative sentiment:\", prior_probs[\"negative\"])"
   ]
  },
  {
   "cell_type": "code",
   "execution_count": 38,
   "metadata": {},
   "outputs": [
    {
     "name": "stdout",
     "output_type": "stream",
     "text": [
      "TF-IDF scores for \"manipis\" in the positive class:\n",
      "{'manipis': 7.303049824523651}\n",
      "TF-IDF scores for \"manipis\" in the negative class:\n",
      "{'manipis': 5.591354253781028}\n"
     ]
    }
   ],
   "source": [
    "from sklearn.feature_extraction.text import TfidfVectorizer\n",
    "import pandas as pd\n",
    "\n",
    "data = pd.read_csv('data_clean.csv')\n",
    "data = data.dropna()\n",
    "\n",
    "# Split dataset into positive and negative classes\n",
    "positive_data = data[data['sentiment'] == 'positive']\n",
    "negative_data = data[data['sentiment'] == 'negative']\n",
    "\n",
    "\n",
    "# Create tf-idf vectorizer for positive class\n",
    "tfidf_pos = TfidfVectorizer()\n",
    "tfidf_pos.fit(positive_data['review'])\n",
    "\n",
    "# Create tf-idf vectorizer for negative class\n",
    "tfidf_neg = TfidfVectorizer()\n",
    "tfidf_neg.fit(negative_data['review'])\n",
    "\n",
    "# Compute tf-idf scores for the phrase \"hindi na ako bibili nito\" in the positive class\n",
    "phrase = \"manipis\"\n",
    "pos_tfidf_scores = {}\n",
    "for word in phrase.split():\n",
    "    if word in tfidf_pos.vocabulary_:\n",
    "        pos_tfidf_scores[word] = tfidf_pos.idf_[tfidf_pos.vocabulary_[word]]\n",
    "\n",
    "# Compute tf-idf scores for the phrase \"hindi na ako bibili nito\" in the negative class\n",
    "neg_tfidf_scores = {}\n",
    "for word in phrase.split():\n",
    "    if word in tfidf_neg.vocabulary_:\n",
    "        neg_tfidf_scores[word] = tfidf_neg.idf_[tfidf_neg.vocabulary_[word]]\n",
    "\n",
    "# Print tf-idf scores\n",
    "print(\"TF-IDF scores for \\\"{}\\\" in the positive class:\".format(phrase))\n",
    "print(pos_tfidf_scores)\n",
    "\n",
    "print(\"TF-IDF scores for \\\"{}\\\" in the negative class:\".format(phrase))\n",
    "print(neg_tfidf_scores)"
   ]
  },
  {
   "cell_type": "code",
   "execution_count": 44,
   "metadata": {},
   "outputs": [
    {
     "ename": "AttributeError",
     "evalue": "partially initialized module 'nltk' has no attribute 'data' (most likely due to a circular import)",
     "output_type": "error",
     "traceback": [
      "\u001b[1;31m---------------------------------------------------------------------------\u001b[0m",
      "\u001b[1;31mAttributeError\u001b[0m                            Traceback (most recent call last)",
      "\u001b[1;32mc:\\Users\\Maike\\OneDrive\\Desktop\\Thesis\\Result\\experiment.ipynb Cell 27\u001b[0m in \u001b[0;36m<cell line: 1>\u001b[1;34m()\u001b[0m\n\u001b[1;32m----> <a href='vscode-notebook-cell:/c%3A/Users/Maike/OneDrive/Desktop/Thesis/Result/experiment.ipynb#X34sZmlsZQ%3D%3D?line=0'>1</a>\u001b[0m \u001b[39mimport\u001b[39;00m \u001b[39mnltk\u001b[39;00m\n\u001b[0;32m      <a href='vscode-notebook-cell:/c%3A/Users/Maike/OneDrive/Desktop/Thesis/Result/experiment.ipynb#X34sZmlsZQ%3D%3D?line=2'>3</a>\u001b[0m \u001b[39m# Example documents in the negative and positive class\u001b[39;00m\n\u001b[0;32m      <a href='vscode-notebook-cell:/c%3A/Users/Maike/OneDrive/Desktop/Thesis/Result/experiment.ipynb#X34sZmlsZQ%3D%3D?line=3'>4</a>\u001b[0m neg_docs \u001b[39m=\u001b[39m data[data[\u001b[39m'\u001b[39m\u001b[39msentiment\u001b[39m\u001b[39m'\u001b[39m] \u001b[39m==\u001b[39m \u001b[39m'\u001b[39m\u001b[39mnegative\u001b[39m\u001b[39m'\u001b[39m][\u001b[39m'\u001b[39m\u001b[39mreview\u001b[39m\u001b[39m'\u001b[39m]\u001b[39m.\u001b[39mtolist()\n",
      "File \u001b[1;32mc:\\Users\\Maike\\AppData\\Local\\Programs\\Python\\Python310\\lib\\site-packages\\nltk\\__init__.py:149\u001b[0m, in \u001b[0;36m<module>\u001b[1;34m\u001b[0m\n\u001b[0;32m    147\u001b[0m \u001b[39mfrom\u001b[39;00m \u001b[39mnltk\u001b[39;00m\u001b[39m.\u001b[39;00m\u001b[39mtag\u001b[39;00m \u001b[39mimport\u001b[39;00m \u001b[39m*\u001b[39m\n\u001b[0;32m    148\u001b[0m \u001b[39mfrom\u001b[39;00m \u001b[39mnltk\u001b[39;00m\u001b[39m.\u001b[39;00m\u001b[39mtokenize\u001b[39;00m \u001b[39mimport\u001b[39;00m \u001b[39m*\u001b[39m\n\u001b[1;32m--> 149\u001b[0m \u001b[39mfrom\u001b[39;00m \u001b[39mnltk\u001b[39;00m\u001b[39m.\u001b[39;00m\u001b[39mtranslate\u001b[39;00m \u001b[39mimport\u001b[39;00m \u001b[39m*\u001b[39m\n\u001b[0;32m    150\u001b[0m \u001b[39mfrom\u001b[39;00m \u001b[39mnltk\u001b[39;00m\u001b[39m.\u001b[39;00m\u001b[39msem\u001b[39;00m \u001b[39mimport\u001b[39;00m \u001b[39m*\u001b[39m\n\u001b[0;32m    151\u001b[0m \u001b[39mfrom\u001b[39;00m \u001b[39mnltk\u001b[39;00m\u001b[39m.\u001b[39;00m\u001b[39mstem\u001b[39;00m \u001b[39mimport\u001b[39;00m \u001b[39m*\u001b[39m\n",
      "File \u001b[1;32mc:\\Users\\Maike\\AppData\\Local\\Programs\\Python\\Python310\\lib\\site-packages\\nltk\\translate\\__init__.py:23\u001b[0m, in \u001b[0;36m<module>\u001b[1;34m\u001b[0m\n\u001b[0;32m     21\u001b[0m \u001b[39mfrom\u001b[39;00m \u001b[39mnltk\u001b[39;00m\u001b[39m.\u001b[39;00m\u001b[39mtranslate\u001b[39;00m\u001b[39m.\u001b[39;00m\u001b[39mbleu_score\u001b[39;00m \u001b[39mimport\u001b[39;00m sentence_bleu \u001b[39mas\u001b[39;00m bleu\n\u001b[0;32m     22\u001b[0m \u001b[39mfrom\u001b[39;00m \u001b[39mnltk\u001b[39;00m\u001b[39m.\u001b[39;00m\u001b[39mtranslate\u001b[39;00m\u001b[39m.\u001b[39;00m\u001b[39mribes_score\u001b[39;00m \u001b[39mimport\u001b[39;00m sentence_ribes \u001b[39mas\u001b[39;00m ribes\n\u001b[1;32m---> 23\u001b[0m \u001b[39mfrom\u001b[39;00m \u001b[39mnltk\u001b[39;00m\u001b[39m.\u001b[39;00m\u001b[39mtranslate\u001b[39;00m\u001b[39m.\u001b[39;00m\u001b[39mmeteor_score\u001b[39;00m \u001b[39mimport\u001b[39;00m meteor_score \u001b[39mas\u001b[39;00m meteor\n\u001b[0;32m     24\u001b[0m \u001b[39mfrom\u001b[39;00m \u001b[39mnltk\u001b[39;00m\u001b[39m.\u001b[39;00m\u001b[39mtranslate\u001b[39;00m\u001b[39m.\u001b[39;00m\u001b[39mmetrics\u001b[39;00m \u001b[39mimport\u001b[39;00m alignment_error_rate\n\u001b[0;32m     25\u001b[0m \u001b[39mfrom\u001b[39;00m \u001b[39mnltk\u001b[39;00m\u001b[39m.\u001b[39;00m\u001b[39mtranslate\u001b[39;00m\u001b[39m.\u001b[39;00m\u001b[39mstack_decoder\u001b[39;00m \u001b[39mimport\u001b[39;00m StackDecoder\n",
      "File \u001b[1;32mc:\\Users\\Maike\\AppData\\Local\\Programs\\Python\\Python310\\lib\\site-packages\\nltk\\translate\\meteor_score.py:11\u001b[0m, in \u001b[0;36m<module>\u001b[1;34m\u001b[0m\n\u001b[0;32m      1\u001b[0m \u001b[39m# -*- coding: utf-8 -*-\u001b[39;00m\n\u001b[0;32m      2\u001b[0m \u001b[39m# Natural Language Toolkit: Machine Translation\u001b[39;00m\n\u001b[0;32m      3\u001b[0m \u001b[39m#\u001b[39;00m\n\u001b[1;32m   (...)\u001b[0m\n\u001b[0;32m      6\u001b[0m \u001b[39m# URL: <http://nltk.org/>\u001b[39;00m\n\u001b[0;32m      7\u001b[0m \u001b[39m# For license information, see LICENSE.TXT\u001b[39;00m\n\u001b[0;32m     10\u001b[0m \u001b[39mfrom\u001b[39;00m \u001b[39mnltk\u001b[39;00m\u001b[39m.\u001b[39;00m\u001b[39mstem\u001b[39;00m\u001b[39m.\u001b[39;00m\u001b[39mporter\u001b[39;00m \u001b[39mimport\u001b[39;00m PorterStemmer\n\u001b[1;32m---> 11\u001b[0m \u001b[39mfrom\u001b[39;00m \u001b[39mnltk\u001b[39;00m\u001b[39m.\u001b[39;00m\u001b[39mcorpus\u001b[39;00m \u001b[39mimport\u001b[39;00m wordnet\n\u001b[0;32m     12\u001b[0m \u001b[39mfrom\u001b[39;00m \u001b[39mitertools\u001b[39;00m \u001b[39mimport\u001b[39;00m chain, product\n\u001b[0;32m     15\u001b[0m \u001b[39mdef\u001b[39;00m \u001b[39m_generate_enums\u001b[39m(hypothesis, reference, preprocess\u001b[39m=\u001b[39m\u001b[39mstr\u001b[39m\u001b[39m.\u001b[39mlower):\n",
      "File \u001b[1;32mc:\\Users\\Maike\\AppData\\Local\\Programs\\Python\\Python310\\lib\\site-packages\\nltk\\corpus\\__init__.py:66\u001b[0m, in \u001b[0;36m<module>\u001b[1;34m\u001b[0m\n\u001b[0;32m     64\u001b[0m \u001b[39mfrom\u001b[39;00m \u001b[39mnltk\u001b[39;00m\u001b[39m.\u001b[39;00m\u001b[39mtokenize\u001b[39;00m \u001b[39mimport\u001b[39;00m RegexpTokenizer\n\u001b[0;32m     65\u001b[0m \u001b[39mfrom\u001b[39;00m \u001b[39mnltk\u001b[39;00m\u001b[39m.\u001b[39;00m\u001b[39mcorpus\u001b[39;00m\u001b[39m.\u001b[39;00m\u001b[39mutil\u001b[39;00m \u001b[39mimport\u001b[39;00m LazyCorpusLoader\n\u001b[1;32m---> 66\u001b[0m \u001b[39mfrom\u001b[39;00m \u001b[39mnltk\u001b[39;00m\u001b[39m.\u001b[39;00m\u001b[39mcorpus\u001b[39;00m\u001b[39m.\u001b[39;00m\u001b[39mreader\u001b[39;00m \u001b[39mimport\u001b[39;00m \u001b[39m*\u001b[39m\n\u001b[0;32m     68\u001b[0m abc \u001b[39m=\u001b[39m LazyCorpusLoader(\n\u001b[0;32m     69\u001b[0m     \u001b[39m\"\u001b[39m\u001b[39mabc\u001b[39m\u001b[39m\"\u001b[39m,\n\u001b[0;32m     70\u001b[0m     PlaintextCorpusReader,\n\u001b[0;32m     71\u001b[0m     \u001b[39mr\u001b[39m\u001b[39m\"\u001b[39m\u001b[39m(?!\u001b[39m\u001b[39m\\\u001b[39m\u001b[39m.).*\u001b[39m\u001b[39m\\\u001b[39m\u001b[39m.txt\u001b[39m\u001b[39m\"\u001b[39m,\n\u001b[0;32m     72\u001b[0m     encoding\u001b[39m=\u001b[39m[(\u001b[39m\"\u001b[39m\u001b[39mscience\u001b[39m\u001b[39m\"\u001b[39m, \u001b[39m\"\u001b[39m\u001b[39mlatin_1\u001b[39m\u001b[39m\"\u001b[39m), (\u001b[39m\"\u001b[39m\u001b[39mrural\u001b[39m\u001b[39m\"\u001b[39m, \u001b[39m\"\u001b[39m\u001b[39mutf8\u001b[39m\u001b[39m\"\u001b[39m)],\n\u001b[0;32m     73\u001b[0m )\n\u001b[0;32m     74\u001b[0m alpino \u001b[39m=\u001b[39m LazyCorpusLoader(\u001b[39m\"\u001b[39m\u001b[39malpino\u001b[39m\u001b[39m\"\u001b[39m, AlpinoCorpusReader, tagset\u001b[39m=\u001b[39m\u001b[39m\"\u001b[39m\u001b[39malpino\u001b[39m\u001b[39m\"\u001b[39m)\n",
      "File \u001b[1;32mc:\\Users\\Maike\\AppData\\Local\\Programs\\Python\\Python310\\lib\\site-packages\\nltk\\corpus\\reader\\__init__.py:56\u001b[0m, in \u001b[0;36m<module>\u001b[1;34m\u001b[0m\n\u001b[0;32m      1\u001b[0m \u001b[39m# Natural Language Toolkit: Corpus Readers\u001b[39;00m\n\u001b[0;32m      2\u001b[0m \u001b[39m#\u001b[39;00m\n\u001b[0;32m      3\u001b[0m \u001b[39m# Copyright (C) 2001-2020 NLTK Project\u001b[39;00m\n\u001b[1;32m   (...)\u001b[0m\n\u001b[0;32m      6\u001b[0m \u001b[39m# URL: <http://nltk.org/>\u001b[39;00m\n\u001b[0;32m      7\u001b[0m \u001b[39m# For license information, see LICENSE.TXT\u001b[39;00m\n\u001b[0;32m      9\u001b[0m \u001b[39m\"\"\"\u001b[39;00m\n\u001b[0;32m     10\u001b[0m \u001b[39mNLTK corpus readers.  The modules in this package provide functions\u001b[39;00m\n\u001b[0;32m     11\u001b[0m \u001b[39mthat can be used to read corpus fileids in a variety of formats.  These\u001b[39;00m\n\u001b[1;32m   (...)\u001b[0m\n\u001b[0;32m     53\u001b[0m \n\u001b[0;32m     54\u001b[0m \u001b[39m\"\"\"\u001b[39;00m\n\u001b[1;32m---> 56\u001b[0m \u001b[39mfrom\u001b[39;00m \u001b[39mnltk\u001b[39;00m\u001b[39m.\u001b[39;00m\u001b[39mcorpus\u001b[39;00m\u001b[39m.\u001b[39;00m\u001b[39mreader\u001b[39;00m\u001b[39m.\u001b[39;00m\u001b[39mplaintext\u001b[39;00m \u001b[39mimport\u001b[39;00m \u001b[39m*\u001b[39m\n\u001b[0;32m     57\u001b[0m \u001b[39mfrom\u001b[39;00m \u001b[39mnltk\u001b[39;00m\u001b[39m.\u001b[39;00m\u001b[39mcorpus\u001b[39;00m\u001b[39m.\u001b[39;00m\u001b[39mreader\u001b[39;00m\u001b[39m.\u001b[39;00m\u001b[39mutil\u001b[39;00m \u001b[39mimport\u001b[39;00m \u001b[39m*\u001b[39m\n\u001b[0;32m     58\u001b[0m \u001b[39mfrom\u001b[39;00m \u001b[39mnltk\u001b[39;00m\u001b[39m.\u001b[39;00m\u001b[39mcorpus\u001b[39;00m\u001b[39m.\u001b[39;00m\u001b[39mreader\u001b[39;00m\u001b[39m.\u001b[39;00m\u001b[39mapi\u001b[39;00m \u001b[39mimport\u001b[39;00m \u001b[39m*\u001b[39m\n",
      "File \u001b[1;32mc:\\Users\\Maike\\AppData\\Local\\Programs\\Python\\Python310\\lib\\site-packages\\nltk\\corpus\\reader\\plaintext.py:21\u001b[0m, in \u001b[0;36m<module>\u001b[1;34m\u001b[0m\n\u001b[0;32m     17\u001b[0m \u001b[39mfrom\u001b[39;00m \u001b[39mnltk\u001b[39;00m\u001b[39m.\u001b[39;00m\u001b[39mcorpus\u001b[39;00m\u001b[39m.\u001b[39;00m\u001b[39mreader\u001b[39;00m\u001b[39m.\u001b[39;00m\u001b[39mutil\u001b[39;00m \u001b[39mimport\u001b[39;00m \u001b[39m*\u001b[39m\n\u001b[0;32m     18\u001b[0m \u001b[39mfrom\u001b[39;00m \u001b[39mnltk\u001b[39;00m\u001b[39m.\u001b[39;00m\u001b[39mcorpus\u001b[39;00m\u001b[39m.\u001b[39;00m\u001b[39mreader\u001b[39;00m\u001b[39m.\u001b[39;00m\u001b[39mapi\u001b[39;00m \u001b[39mimport\u001b[39;00m \u001b[39m*\u001b[39m\n\u001b[1;32m---> 21\u001b[0m \u001b[39mclass\u001b[39;00m \u001b[39mPlaintextCorpusReader\u001b[39;00m(CorpusReader):\n\u001b[0;32m     22\u001b[0m     \u001b[39m\"\"\"\u001b[39;00m\n\u001b[0;32m     23\u001b[0m \u001b[39m    Reader for corpora that consist of plaintext documents.  Paragraphs\u001b[39;00m\n\u001b[0;32m     24\u001b[0m \u001b[39m    are assumed to be split using blank lines.  Sentences and words can\u001b[39;00m\n\u001b[1;32m   (...)\u001b[0m\n\u001b[0;32m     30\u001b[0m \u001b[39m    overriding the ``CorpusView`` class variable.\u001b[39;00m\n\u001b[0;32m     31\u001b[0m \u001b[39m    \"\"\"\u001b[39;00m\n\u001b[0;32m     33\u001b[0m     CorpusView \u001b[39m=\u001b[39m StreamBackedCorpusView\n",
      "File \u001b[1;32mc:\\Users\\Maike\\AppData\\Local\\Programs\\Python\\Python310\\lib\\site-packages\\nltk\\corpus\\reader\\plaintext.py:43\u001b[0m, in \u001b[0;36mPlaintextCorpusReader\u001b[1;34m()\u001b[0m\n\u001b[0;32m     33\u001b[0m CorpusView \u001b[39m=\u001b[39m StreamBackedCorpusView\n\u001b[0;32m     34\u001b[0m \u001b[39m\"\"\"The corpus view class used by this reader.  Subclasses of\u001b[39;00m\n\u001b[0;32m     35\u001b[0m \u001b[39m   ``PlaintextCorpusReader`` may specify alternative corpus view\u001b[39;00m\n\u001b[0;32m     36\u001b[0m \u001b[39m   classes (e.g., to skip the preface sections of documents.)\"\"\"\u001b[39;00m\n\u001b[0;32m     38\u001b[0m \u001b[39mdef\u001b[39;00m \u001b[39m__init__\u001b[39m(\n\u001b[0;32m     39\u001b[0m     \u001b[39mself\u001b[39m,\n\u001b[0;32m     40\u001b[0m     root,\n\u001b[0;32m     41\u001b[0m     fileids,\n\u001b[0;32m     42\u001b[0m     word_tokenizer\u001b[39m=\u001b[39mWordPunctTokenizer(),\n\u001b[1;32m---> 43\u001b[0m     sent_tokenizer\u001b[39m=\u001b[39mnltk\u001b[39m.\u001b[39;49mdata\u001b[39m.\u001b[39mLazyLoader(\u001b[39m\"\u001b[39m\u001b[39mtokenizers/punkt/english.pickle\u001b[39m\u001b[39m\"\u001b[39m),\n\u001b[0;32m     44\u001b[0m     para_block_reader\u001b[39m=\u001b[39mread_blankline_block,\n\u001b[0;32m     45\u001b[0m     encoding\u001b[39m=\u001b[39m\u001b[39m\"\u001b[39m\u001b[39mutf8\u001b[39m\u001b[39m\"\u001b[39m,\n\u001b[0;32m     46\u001b[0m ):\n\u001b[0;32m     47\u001b[0m     \u001b[39m\"\"\"\u001b[39;00m\n\u001b[0;32m     48\u001b[0m \u001b[39m    Construct a new plaintext corpus reader for a set of documents\u001b[39;00m\n\u001b[0;32m     49\u001b[0m \u001b[39m    located at the given root directory.  Example usage:\u001b[39;00m\n\u001b[1;32m   (...)\u001b[0m\n\u001b[0;32m     61\u001b[0m \u001b[39m        corpus into paragraph blocks.\u001b[39;00m\n\u001b[0;32m     62\u001b[0m \u001b[39m    \"\"\"\u001b[39;00m\n\u001b[0;32m     63\u001b[0m     CorpusReader\u001b[39m.\u001b[39m\u001b[39m__init__\u001b[39m(\u001b[39mself\u001b[39m, root, fileids, encoding)\n",
      "\u001b[1;31mAttributeError\u001b[0m: partially initialized module 'nltk' has no attribute 'data' (most likely due to a circular import)"
     ]
    }
   ],
   "source": [
    "import nltk\n",
    "\n",
    "# Example documents in the negative and positive class\n",
    "neg_docs = data[data['sentiment'] == 'negative']['review'].tolist()\n",
    "pos_docs = data[data['sentiment'] == 'positive']['review'].tolist()\n",
    "\n",
    "# Initialize two empty sets to store the unique words in the negative and positive class\n",
    "neg_words = set()\n",
    "pos_words = set()\n",
    "\n",
    "# Loop through all the documents in the negative and positive class and tokenize them using nltk's word_tokenize\n",
    "for doc in neg_docs:\n",
    "    tokens = nltk.word_tokenize(doc)\n",
    "    for token in tokens:\n",
    "        neg_words.add(token.lower())\n",
    "\n",
    "for doc in pos_docs:\n",
    "    tokens = nltk.word_tokenize(doc)\n",
    "    for token in tokens:\n",
    "        pos_words.add(token.lower())\n",
    "\n",
    "# Sum the length of each set to get the total number of unique words in the negative and positive class\n",
    "total_neg_words = len(neg_words)\n",
    "total_pos_words = len(pos_words)\n",
    "\n",
    "print(\"Total unique words in negative class:\", total_neg_words)\n",
    "print(\"Total unique words in positive class:\", total_pos_words)"
   ]
  }
 ],
 "metadata": {
  "kernelspec": {
   "display_name": "Python 3",
   "language": "python",
   "name": "python3"
  },
  "language_info": {
   "codemirror_mode": {
    "name": "ipython",
    "version": 3
   },
   "file_extension": ".py",
   "mimetype": "text/x-python",
   "name": "python",
   "nbconvert_exporter": "python",
   "pygments_lexer": "ipython3",
   "version": "3.10.5"
  },
  "orig_nbformat": 4,
  "vscode": {
   "interpreter": {
    "hash": "e01773854da9e445ccbe14a287baf3d6e372fb1ae9c4bc3d43d910846b84ee8e"
   }
  }
 },
 "nbformat": 4,
 "nbformat_minor": 2
}
