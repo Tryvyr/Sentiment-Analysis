{
 "cells": [
  {
   "cell_type": "code",
   "execution_count": 40,
   "metadata": {},
   "outputs": [
    {
     "name": "stdout",
     "output_type": "stream",
     "text": [
      "Empty DataFrame\n",
      "Columns: [Review]\n",
      "Index: []\n"
     ]
    }
   ],
   "source": [
    "import time\n",
    "import requests\n",
    "from selenium import webdriver\n",
    "from bs4 import BeautifulSoup\n",
    "import pandas as pd\n",
    "from selenium.webdriver.support.ui import WebDriverWait\n",
    "from selenium.webdriver.support import expected_conditions as EC\n",
    "from selenium.webdriver.common.by import By\n",
    "\n",
    "\n",
    "\n",
    "url = 'https://shopee.ph/Hanging-Neck-Fan-Hands-Free-Bladeless-Fan-Operated-Wearable-Personal-Fan-Leafless-Air-Cooler-Fan%E2%AD%90-i.773664585.16874091293?sp_atk=b73e12f5-f4d5-4f80-a990-340abc4d4fd8&xptdk=b73e12f5-f4d5-4f80-a990-340abc4d4fd8.html'\n",
    "options = webdriver.ChromeOptions()\n",
    "options.add_argument(\"--start-maximized\")\n",
    "driver = webdriver.Chrome(options=options)\n",
    "driver.get(url)\n",
    "\n",
    "data = []\n",
    "\n",
    "for i in range(0,5):\n",
    "    soup = BeautifulSoup(driver.page_source, 'html.parser')\n",
    "    containers = soup.findAll('div', attrs = {'class':'Rk6V+3'})\n",
    "    for container in containers:\n",
    "        review = container.find('div', attrs = {'style':'margin-top: 0.75rem;'}).text\n",
    "        data.append(\n",
    "            (review)\n",
    "        )\n",
    "\n",
    "time.sleep(2)\n",
    "df = pd.DataFrame(data, columns=['Review'])\n",
    "print(df)\n",
    "\n",
    "driver.close()"
   ]
  }
 ],
 "metadata": {
  "kernelspec": {
   "display_name": "venv",
   "language": "python",
   "name": "python3"
  },
  "language_info": {
   "codemirror_mode": {
    "name": "ipython",
    "version": 3
   },
   "file_extension": ".py",
   "mimetype": "text/x-python",
   "name": "python",
   "nbconvert_exporter": "python",
   "pygments_lexer": "ipython3",
   "version": "3.10.5"
  },
  "orig_nbformat": 4
 },
 "nbformat": 4,
 "nbformat_minor": 2
}
